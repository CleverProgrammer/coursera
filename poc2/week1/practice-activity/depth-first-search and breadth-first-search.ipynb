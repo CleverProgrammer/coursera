{
 "cells": [
  {
   "cell_type": "markdown",
   "metadata": {},
   "source": [
    "#Depth First Search and Breadth First Search\n",
    "http://eddmann.com/posts/depth-first-search-and-breadth-first-search-in-python/ <br>\n",
    "##[graph](http://graphs.grevian.org/graph/images/4531314178916352)"
   ]
  },
  {
   "cell_type": "code",
   "execution_count": 2,
   "metadata": {
    "collapsed": false
   },
   "outputs": [],
   "source": [
    "graph = {'A': set(['B', 'C']),\n",
    "         'B': set(['A', 'D', 'E']),\n",
    "         'C': set(['A', 'F']),\n",
    "         'D': set(['B']),\n",
    "         'E': set(['B', 'F']),\n",
    "         'F': set(['C', 'E'])}"
   ]
  },
  {
   "cell_type": "code",
   "execution_count": 61,
   "metadata": {
    "collapsed": false
   },
   "outputs": [
    {
     "name": "stdout",
     "output_type": "stream",
     "text": [
      "{'C', 'A', 'B', 'D', 'F', 'E'}\n"
     ]
    }
   ],
   "source": [
    "def dfs(graph, start):\n",
    "    visited, stack = set(), [start]\n",
    "    while stack:\n",
    "        vertex = stack.pop()\n",
    "        if vertex not in visited:\n",
    "            visited.add(vertex)\n",
    "            stack.extend(graph[vertex] - visited)\n",
    "    return visited\n",
    "\n",
    "print(dfs(graph, 'C')) # {'E', 'D', 'F', 'A', 'C', 'B'}"
   ]
  },
  {
   "cell_type": "code",
   "execution_count": 43,
   "metadata": {
    "collapsed": false
   },
   "outputs": [
    {
     "name": "stdout",
     "output_type": "stream",
     "text": [
      "--------------------DFS TRAVERSAL STARTED-----------------------------\n",
      "stack: ['A']\n",
      "visited: set()\n",
      "vertex: A\n",
      "visited: {'A'}\n",
      "graph[vertex] - visited: {'B', 'C'} - {'A'}\n",
      "stack: ['B', 'C']\n",
      "-------------------------------------------------\n",
      "\n",
      "vertex: C\n",
      "visited: {'A', 'C'}\n",
      "graph[vertex] - visited: {'A', 'F'} - {'A', 'C'}\n",
      "stack: ['B', 'F']\n",
      "-------------------------------------------------\n",
      "\n",
      "vertex: F\n",
      "visited: {'A', 'C', 'F'}\n",
      "graph[vertex] - visited: {'E', 'C'} - {'A', 'C', 'F'}\n",
      "stack: ['B', 'E']\n",
      "-------------------------------------------------\n",
      "\n",
      "vertex: E\n",
      "visited: {'E', 'A', 'C', 'F'}\n",
      "graph[vertex] - visited: {'B', 'F'} - {'E', 'A', 'C', 'F'}\n",
      "stack: ['B', 'B']\n",
      "-------------------------------------------------\n",
      "\n",
      "vertex: B\n",
      "visited: {'B', 'E', 'A', 'C', 'F'}\n",
      "graph[vertex] - visited: {'E', 'A', 'D'} - {'B', 'E', 'A', 'C', 'F'}\n",
      "stack: ['B', 'D']\n",
      "-------------------------------------------------\n",
      "\n",
      "vertex: D\n",
      "visited: {'C', 'D', 'E', 'A', 'F', 'B'}\n",
      "graph[vertex] - visited: {'B'} - {'C', 'D', 'E', 'A', 'F', 'B'}\n",
      "stack: ['B']\n",
      "-------------------------------------------------\n",
      "\n",
      "vertex: B\n",
      "visited: {'C', 'D', 'E', 'A', 'F', 'B'}\n",
      "graph[vertex] - visited: {'E', 'A', 'D'} - {'C', 'D', 'E', 'A', 'F', 'B'}\n",
      "stack: []\n",
      "---------------Traversal FINISHED--------------------------\n"
     ]
    }
   ],
   "source": [
    "visited, stack = set(), ['A']\n",
    "print('--------------------DFS TRAVERSAL STARTED-----------------------------')\n",
    "print(\"stack:\", stack)\n",
    "print(\"visited:\", visited)\n",
    "vertex = stack.pop()  \n",
    "print(\"vertex:\", vertex)  # 'A'\n",
    "vertex not in visited  # True\n",
    "visited.add(vertex)  # {'A'}\n",
    "print(\"visited:\", visited)\n",
    "stack.extend(graph[vertex] - visited)\n",
    "print(\"graph[vertex] - visited: {0} - {1}\".format(graph[vertex], visited))\n",
    "print(\"stack:\", stack)\n",
    "print('-------------------------------------------------')\n",
    "print()\n",
    "\n",
    "vertex = stack.pop()  \n",
    "print(\"vertex:\", vertex)  # 'A'\n",
    "vertex not in visited  # True\n",
    "visited.add(vertex)  # {'A'}\n",
    "print(\"visited:\", visited)\n",
    "stack.extend(graph[vertex] - visited)\n",
    "print(\"graph[vertex] - visited: {0} - {1}\".format(graph[vertex], visited))\n",
    "print(\"stack:\", stack)\n",
    "print('-------------------------------------------------')\n",
    "print()\n",
    "vertex = stack.pop()  \n",
    "print(\"vertex:\", vertex)  # 'A'\n",
    "vertex not in visited  # True\n",
    "visited.add(vertex)  # {'A'}\n",
    "print(\"visited:\", visited)\n",
    "stack.extend(graph[vertex] - visited)\n",
    "print(\"graph[vertex] - visited: {0} - {1}\".format(graph[vertex], visited))\n",
    "print(\"stack:\", stack)\n",
    "print('-------------------------------------------------')\n",
    "print()\n",
    "vertex = stack.pop()  \n",
    "print(\"vertex:\", vertex)  # 'A'\n",
    "vertex not in visited  # True\n",
    "visited.add(vertex)  # {'A'}\n",
    "print(\"visited:\", visited)\n",
    "stack.extend(graph[vertex] - visited)\n",
    "print(\"graph[vertex] - visited: {0} - {1}\".format(graph[vertex], visited))\n",
    "print(\"stack:\", stack)\n",
    "print('-------------------------------------------------')\n",
    "print()\n",
    "vertex = stack.pop()  \n",
    "print(\"vertex:\", vertex)  # 'A'\n",
    "vertex not in visited  # True\n",
    "visited.add(vertex)  # {'A'}\n",
    "print(\"visited:\", visited)\n",
    "stack.extend(graph[vertex] - visited)\n",
    "print(\"graph[vertex] - visited: {0} - {1}\".format(graph[vertex], visited))\n",
    "print(\"stack:\", stack)\n",
    "print('-------------------------------------------------')\n",
    "print()\n",
    "vertex = stack.pop()  \n",
    "print(\"vertex:\", vertex)  # 'A'\n",
    "vertex not in visited  # True\n",
    "visited.add(vertex)  # {'A'}\n",
    "print(\"visited:\", visited)\n",
    "stack.extend(graph[vertex] - visited)\n",
    "print(\"graph[vertex] - visited: {0} - {1}\".format(graph[vertex], visited))\n",
    "print(\"stack:\", stack)\n",
    "print('-------------------------------------------------')\n",
    "print()\n",
    "vertex = stack.pop()  \n",
    "print(\"vertex:\", vertex)  # 'A'\n",
    "vertex not in visited  # True\n",
    "visited.add(vertex)  # {'A'}\n",
    "print(\"visited:\", visited)\n",
    "stack.extend(graph[vertex] - visited)\n",
    "print(\"graph[vertex] - visited: {0} - {1}\".format(graph[vertex], visited))\n",
    "print(\"stack:\", stack)\n",
    "print(\"---------------Traversal FINISHED--------------------------\")"
   ]
  },
  {
   "cell_type": "code",
   "execution_count": 50,
   "metadata": {
    "collapsed": false
   },
   "outputs": [
    {
     "data": {
      "text/plain": [
       "{'A', 'B', 'C', 'D', 'E', 'F'}"
      ]
     },
     "execution_count": 50,
     "metadata": {},
     "output_type": "execute_result"
    }
   ],
   "source": [
    "# My implementation of DFS\n",
    "def dfs(graph, start):\n",
    "    visited, stack = set(), [start]\n",
    "    while stack:\n",
    "        vertex = stack.pop()\n",
    "        if vertex not in visited:\n",
    "            visited.add(vertex)\n",
    "            stack.extend(graph[vertex] - visited)\n",
    "    return visited\n",
    "\n",
    "dfs(graph, 'A')"
   ]
  },
  {
   "cell_type": "markdown",
   "metadata": {},
   "source": [
    "[graph](http://graphs.grevian.org/graph/images/4531314178916352)"
   ]
  },
  {
   "cell_type": "code",
   "execution_count": 60,
   "metadata": {
    "collapsed": false,
    "scrolled": true
   },
   "outputs": [
    {
     "name": "stdout",
     "output_type": "stream",
     "text": [
      "{'C', 'A', 'B', 'D', 'F', 'E'}\n"
     ]
    }
   ],
   "source": [
    "graph = {'A': set(['B', 'C']),\n",
    "         'B': set(['A', 'D', 'E']),\n",
    "         'C': set(['A', 'F']),\n",
    "         'D': set(['B']),\n",
    "         'E': set(['B', 'F']),\n",
    "         'F': set(['C', 'E'])}\n",
    "\n",
    "def dfs(graph, start, visited=None):\n",
    "    if visited is None:\n",
    "        visited = set()\n",
    "    visited.add(start)\n",
    "    for next in graph[start] - visited:\n",
    "        dfs(graph, next, visited)\n",
    "    return visited\n",
    "\n",
    "print(dfs(graph, 'C')) # {'E', 'D', 'F', 'A', 'C', 'B'}"
   ]
  },
  {
   "cell_type": "markdown",
   "metadata": {},
   "source": [
    "# Breadth First Solution"
   ]
  },
  {
   "cell_type": "code",
   "execution_count": 70,
   "metadata": {
    "collapsed": false,
    "scrolled": false
   },
   "outputs": [
    {
     "name": "stdout",
     "output_type": "stream",
     "text": [
      "{'C', 'A', 'B', 'D', 'F', 'E'}\n"
     ]
    }
   ],
   "source": [
    "graph = {'A': set(['B', 'C']),\n",
    "         'B': set(['A', 'D', 'E']),\n",
    "         'C': set(['A', 'F']),\n",
    "         'D': set(['B']),\n",
    "         'E': set(['B', 'F']),\n",
    "         'F': set(['C', 'E'])}\n",
    "\n",
    "def bfs(graph, start):\n",
    "    visited, queue = set(), [start]\n",
    "    while queue:\n",
    "        vertex = queue.pop(0)\n",
    "        if vertex not in visited:\n",
    "            visited.add(vertex)\n",
    "            queue.extend(graph[vertex] - visited)\n",
    "    return visited\n",
    "            \n",
    "print(bfs(graph, 'A'))"
   ]
  },
  {
   "cell_type": "code",
   "execution_count": 74,
   "metadata": {
    "collapsed": false
   },
   "outputs": [
    {
     "name": "stdout",
     "output_type": "stream",
     "text": [
      "--------------------BFS TRAVERSAL STARTED-----------------------------\n",
      "queue: ['A']\n",
      "visited: set()\n",
      "vertex: A\n",
      "visited: {'A'}\n",
      "graph[vertex] - visited: {'C', 'B'} - {'A'}\n",
      "queue: ['C', 'B']\n",
      "-------------------------------------------------\n",
      "\n",
      "vertex: C\n",
      "visited: {'C', 'A'}\n",
      "graph[vertex] - visited: {'F', 'A'} - {'C', 'A'}\n",
      "queue: ['B', 'F']\n",
      "-------------------------------------------------\n",
      "\n",
      "vertex: B\n",
      "visited: {'C', 'A', 'B'}\n",
      "graph[vertex] - visited: {'D', 'A', 'E'} - {'C', 'A', 'B'}\n",
      "queue: ['F', 'D', 'E']\n",
      "-------------------------------------------------\n",
      "\n",
      "vertex: F\n",
      "visited: {'F', 'C', 'A', 'B'}\n",
      "graph[vertex] - visited: {'C', 'E'} - {'F', 'C', 'A', 'B'}\n",
      "queue: ['D', 'E', 'E']\n",
      "-------------------------------------------------\n",
      "\n",
      "vertex: D\n",
      "visited: {'F', 'C', 'D', 'A', 'B'}\n",
      "graph[vertex] - visited: {'B'} - {'F', 'C', 'D', 'A', 'B'}\n",
      "queue: ['E', 'E']\n",
      "-------------------------------------------------\n",
      "\n",
      "vertex: E\n",
      "visited: {'C', 'A', 'B', 'D', 'F', 'E'}\n",
      "graph[vertex] - visited: {'F', 'B'} - {'C', 'A', 'B', 'D', 'F', 'E'}\n",
      "queue: ['E']\n",
      "-------------------------------------------------\n",
      "\n",
      "vertex: E\n",
      "visited: {'C', 'A', 'B', 'D', 'F', 'E'}\n",
      "graph[vertex] - visited: {'F', 'B'} - {'C', 'A', 'B', 'D', 'F', 'E'}\n",
      "queue: []\n",
      "---------------BFS Traversal FINISHED--------------------------\n"
     ]
    }
   ],
   "source": [
    "visited, stack = set(), ['A']\n",
    "print('--------------------BFS TRAVERSAL STARTED-----------------------------')\n",
    "print(\"queue:\", stack)\n",
    "print(\"visited:\", visited)\n",
    "vertex = stack.pop(0)  \n",
    "print(\"vertex:\", vertex)  # 'A'\n",
    "vertex not in visited  # True\n",
    "visited.add(vertex)  # {'A'}\n",
    "print(\"visited:\", visited)\n",
    "stack.extend(graph[vertex] - visited)\n",
    "print(\"graph[vertex] - visited: {0} - {1}\".format(graph[vertex], visited))\n",
    "print(\"queue:\", stack)\n",
    "print('-------------------------------------------------')\n",
    "print()\n",
    "\n",
    "vertex = stack.pop(0)  \n",
    "print(\"vertex:\", vertex)  # 'A'\n",
    "vertex not in visited  # True\n",
    "visited.add(vertex)  # {'A'}\n",
    "print(\"visited:\", visited)\n",
    "stack.extend(graph[vertex] - visited)\n",
    "print(\"graph[vertex] - visited: {0} - {1}\".format(graph[vertex], visited))\n",
    "print(\"queue:\", stack)\n",
    "print('-------------------------------------------------')\n",
    "print()\n",
    "vertex = stack.pop(0)  \n",
    "print(\"vertex:\", vertex)  # 'A'\n",
    "vertex not in visited  # True\n",
    "visited.add(vertex)  # {'A'}\n",
    "print(\"visited:\", visited)\n",
    "stack.extend(graph[vertex] - visited)\n",
    "print(\"graph[vertex] - visited: {0} - {1}\".format(graph[vertex], visited))\n",
    "print(\"queue:\", stack)\n",
    "print('-------------------------------------------------')\n",
    "print()\n",
    "vertex = stack.pop(0)  \n",
    "print(\"vertex:\", vertex)  # 'A'\n",
    "vertex not in visited  # True\n",
    "visited.add(vertex)  # {'A'}\n",
    "print(\"visited:\", visited)\n",
    "stack.extend(graph[vertex] - visited)\n",
    "print(\"graph[vertex] - visited: {0} - {1}\".format(graph[vertex], visited))\n",
    "print(\"queue:\", stack)\n",
    "print('-------------------------------------------------')\n",
    "print()\n",
    "vertex = stack.pop(0)  \n",
    "print(\"vertex:\", vertex)  # 'A'\n",
    "vertex not in visited  # True\n",
    "visited.add(vertex)  # {'A'}\n",
    "print(\"visited:\", visited)\n",
    "stack.extend(graph[vertex] - visited)\n",
    "print(\"graph[vertex] - visited: {0} - {1}\".format(graph[vertex], visited))\n",
    "print(\"queue:\", stack)\n",
    "print('-------------------------------------------------')\n",
    "print()\n",
    "vertex = stack.pop(0)  \n",
    "print(\"vertex:\", vertex)  # 'A'\n",
    "vertex not in visited  # True\n",
    "visited.add(vertex)  # {'A'}\n",
    "print(\"visited:\", visited)\n",
    "stack.extend(graph[vertex] - visited)\n",
    "print(\"graph[vertex] - visited: {0} - {1}\".format(graph[vertex], visited))\n",
    "print(\"queue:\", stack)\n",
    "print('-------------------------------------------------')\n",
    "print()\n",
    "vertex = stack.pop(0)  \n",
    "print(\"vertex:\", vertex)  # 'A'\n",
    "vertex not in visited  # True\n",
    "visited.add(vertex)  # {'A'}\n",
    "print(\"visited:\", visited)\n",
    "stack.extend(graph[vertex] - visited)\n",
    "print(\"graph[vertex] - visited: {0} - {1}\".format(graph[vertex], visited))\n",
    "print(\"queue:\", stack)\n",
    "print(\"---------------BFS Traversal FINISHED--------------------------\")"
   ]
  },
  {
   "cell_type": "code",
   "execution_count": 79,
   "metadata": {
    "collapsed": false
   },
   "outputs": [
    {
     "data": {
      "text/plain": [
       "[['A', 'C', 'F'], ['A', 'B', 'E', 'F']]"
      ]
     },
     "execution_count": 79,
     "metadata": {},
     "output_type": "execute_result"
    }
   ],
   "source": [
    "graph = {'A': set(['B', 'C']),\n",
    "         'B': set(['A', 'D', 'E']),\n",
    "         'C': set(['A', 'F']),\n",
    "         'D': set(['B']),\n",
    "         'E': set(['B', 'F']),\n",
    "         'F': set(['C', 'E'])}\n",
    "\n",
    "def bfs_paths(graph, start, goal):\n",
    "    queue = [(start, [start])]\n",
    "    while queue:\n",
    "        (vertex, path) = queue.pop(0)\n",
    "        for next in graph[vertex] - set(path):\n",
    "            if next == goal:\n",
    "                yield path + [next]\n",
    "            else:\n",
    "                queue.append((next, path + [next]))\n",
    "\n",
    "list(bfs_paths(graph, 'A', 'F')) # [['A', 'C', 'F'], ['A', 'B', 'E', 'F']]"
   ]
  },
  {
   "cell_type": "code",
   "execution_count": null,
   "metadata": {
    "collapsed": true
   },
   "outputs": [],
   "source": []
  }
 ],
 "metadata": {
  "kernelspec": {
   "display_name": "Python 3",
   "language": "python",
   "name": "python3"
  },
  "language_info": {
   "codemirror_mode": {
    "name": "ipython",
    "version": 3
   },
   "file_extension": ".py",
   "mimetype": "text/x-python",
   "name": "python",
   "nbconvert_exporter": "python",
   "pygments_lexer": "ipython3",
   "version": "3.4.3"
  }
 },
 "nbformat": 4,
 "nbformat_minor": 0
}
