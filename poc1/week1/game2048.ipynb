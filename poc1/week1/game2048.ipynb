{
 "cells": [
  {
   "cell_type": "markdown",
   "metadata": {},
   "source": [
    "[Nested List Comprehension](http://stackoverflow.com/questions/8049798/understanding-nested-list-comprehension)"
   ]
  },
  {
   "cell_type": "code",
   "execution_count": 104,
   "metadata": {
    "collapsed": false
   },
   "outputs": [],
   "source": [
    "GRID_HEIGHT = 20\n",
    "GRID_WIDTH = 5\n",
    "grid = [[row+col for col in range(GRID_HEIGHT)] for row in range(GRID_WIDTH)]"
   ]
  },
  {
   "cell_type": "code",
   "execution_count": 105,
   "metadata": {
    "collapsed": false,
    "scrolled": true
   },
   "outputs": [
    {
     "data": {
      "text/plain": [
       "[[0, 1, 2, 3, 4, 5, 6, 7, 8, 9, 10, 11, 12, 13, 14, 15, 16, 17, 18, 19],\n",
       " [1, 2, 3, 4, 5, 6, 7, 8, 9, 10, 11, 12, 13, 14, 15, 16, 17, 18, 19, 20],\n",
       " [2, 3, 4, 5, 6, 7, 8, 9, 10, 11, 12, 13, 14, 15, 16, 17, 18, 19, 20, 21],\n",
       " [3, 4, 5, 6, 7, 8, 9, 10, 11, 12, 13, 14, 15, 16, 17, 18, 19, 20, 21, 22],\n",
       " [4, 5, 6, 7, 8, 9, 10, 11, 12, 13, 14, 15, 16, 17, 18, 19, 20, 21, 22, 23]]"
      ]
     },
     "execution_count": 105,
     "metadata": {},
     "output_type": "execute_result"
    }
   ],
   "source": [
    "grid"
   ]
  },
  {
   "cell_type": "markdown",
   "metadata": {},
   "source": [
    "Another way of writing the grid"
   ]
  },
  {
   "cell_type": "code",
   "execution_count": 87,
   "metadata": {
    "collapsed": false
   },
   "outputs": [
    {
     "name": "stdout",
     "output_type": "stream",
     "text": [
      "0\n",
      "row: 0\n",
      "innerResult: [0]\n",
      "row: 1\n",
      "innerResult: [0, 1]\n",
      "row: 2\n",
      "innerResult: [0, 1, 2]\n",
      "row: 3\n",
      "innerResult: [0, 1, 2, 3]\n",
      "1\n",
      "row: 0\n",
      "innerResult: [0]\n",
      "row: 1\n",
      "innerResult: [0, 1]\n",
      "row: 2\n",
      "innerResult: [0, 1, 2]\n",
      "row: 3\n",
      "innerResult: [0, 1, 2, 3]\n",
      "2\n",
      "row: 0\n",
      "innerResult: [0]\n",
      "row: 1\n",
      "innerResult: [0, 1]\n",
      "row: 2\n",
      "innerResult: [0, 1, 2]\n",
      "row: 3\n",
      "innerResult: [0, 1, 2, 3]\n",
      "3\n",
      "row: 0\n",
      "innerResult: [0]\n",
      "row: 1\n",
      "innerResult: [0, 1]\n",
      "row: 2\n",
      "innerResult: [0, 1, 2]\n",
      "row: 3\n",
      "innerResult: [0, 1, 2, 3]\n",
      "4\n",
      "row: 0\n",
      "innerResult: [0]\n",
      "row: 1\n",
      "innerResult: [0, 1]\n",
      "row: 2\n",
      "innerResult: [0, 1, 2]\n",
      "row: 3\n",
      "innerResult: [0, 1, 2, 3]\n",
      "5\n",
      "row: 0\n",
      "innerResult: [0]\n",
      "row: 1\n",
      "innerResult: [0, 1]\n",
      "row: 2\n",
      "innerResult: [0, 1, 2]\n",
      "row: 3\n",
      "innerResult: [0, 1, 2, 3]\n"
     ]
    },
    {
     "data": {
      "text/plain": [
       "[[0, 1, 2, 3],\n",
       " [0, 1, 2, 3],\n",
       " [0, 1, 2, 3],\n",
       " [0, 1, 2, 3],\n",
       " [0, 1, 2, 3],\n",
       " [0, 1, 2, 3]]"
      ]
     },
     "execution_count": 87,
     "metadata": {},
     "output_type": "execute_result"
    }
   ],
   "source": [
    "grid=[]\n",
    "for col in [0,1,2,3,4,5]:\n",
    "    print(col)\n",
    "    innerResult=[]\n",
    "    for row in [0,1,2,3]:\n",
    "        print(\"row: %s\" %row)\n",
    "        innerResult.append(row)\n",
    "        print(\"innerResult: %s\" %innerResult)\n",
    "    grid.append(innerResult)\n",
    "    \n",
    "grid"
   ]
  },
  {
   "cell_type": "code",
   "execution_count": 76,
   "metadata": {
    "collapsed": false
   },
   "outputs": [
    {
     "data": {
      "text/plain": [
       "[[0, 1, 2, 3],\n",
       " [1, 2, 3, 4],\n",
       " [2, 3, 4, 5],\n",
       " [3, 4, 5, 6],\n",
       " [4, 5, 6, 7],\n",
       " [5, 6, 7, 8]]"
      ]
     },
     "execution_count": 76,
     "metadata": {},
     "output_type": "execute_result"
    }
   ],
   "source": []
  },
  {
   "cell_type": "code",
   "execution_count": null,
   "metadata": {
    "collapsed": true
   },
   "outputs": [],
   "source": []
  }
 ],
 "metadata": {
  "kernelspec": {
   "display_name": "Python 3",
   "language": "python",
   "name": "python3"
  },
  "language_info": {
   "codemirror_mode": {
    "name": "ipython",
    "version": 3
   },
   "file_extension": ".py",
   "mimetype": "text/x-python",
   "name": "python",
   "nbconvert_exporter": "python",
   "pygments_lexer": "ipython3",
   "version": "3.4.3"
  }
 },
 "nbformat": 4,
 "nbformat_minor": 0
}
